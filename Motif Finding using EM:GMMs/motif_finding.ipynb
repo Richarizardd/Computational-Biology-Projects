{
 "cells": [
  {
   "cell_type": "markdown",
   "metadata": {},
   "source": [
    "# HW4 Extra Credit: Motif Finding\n",
    "#### EN.600.438 Comptutational Genomics: Data Analysis\n",
    "#### Richard Chen\n",
    "#### Worked with: Steven Chen, Yunfan Fan"
   ]
  },
  {
   "cell_type": "markdown",
   "metadata": {},
   "source": [
    "### 0. Dependencies"
   ]
  },
  {
   "cell_type": "code",
   "execution_count": 40,
   "metadata": {
    "collapsed": true
   },
   "outputs": [],
   "source": [
    "import numpy as np\n",
    "import re\n",
    "import math"
   ]
  },
  {
   "cell_type": "markdown",
   "metadata": {},
   "source": [
    "### 1. E Step: Estimate γ(Zij) from P"
   ]
  },
  {
   "cell_type": "code",
   "execution_count": 41,
   "metadata": {
    "collapsed": true
   },
   "outputs": [],
   "source": [
    "def E_Step(W, read_list, read_length, PFM, nucleotides_dict):\n",
    "    for pos in range(read_length):\n",
    "        all_curr_pos = \"\".join([line[pos] for line in read_list])\n",
    "        for base in range(len(nucleotides_dict.keys())):\n",
    "            PFM[base][pos] = all_curr_pos.count(nucleotides_dict.keys()[base])\n",
    "    PFM = PFM/len(read_list)\n",
    "    PFM_init = PFM[0:4,:W]\n",
    "    return PFM_init"
   ]
  },
  {
   "cell_type": "markdown",
   "metadata": {},
   "source": [
    "### 2. M Step: Estimate Pck and Bc using γ(Z)"
   ]
  },
  {
   "cell_type": "code",
   "execution_count": 42,
   "metadata": {
    "collapsed": true
   },
   "outputs": [],
   "source": [
    "def M_Step(W, read_list, read_length, PFM, nucleotides_dict, nucleotides_prob, Pck):\n",
    "    gamma = np.zeros((len(read_list),read_length))\n",
    "    for ind in range(len(read_list)):\n",
    "        for pos in range(read_length-W+1):\n",
    "            curr_motif = list(read_list[ind][pos:pos+W]); else_seq = list(read_list[ind][:0] + read_list[ind][W:])\n",
    "            curr_motif_prob = reduce(lambda x,y: x*y, [Pck[:,i][[nucleotides_dict[base] for base in list(curr_motif)][i]] for i in range(W)])\n",
    "            else_seq_prob = reduce(lambda x,y: x*y, [nucleotides_prob[base] for base in else_seq])\n",
    "            gamma[ind,pos] = curr_motif_prob*else_seq_prob\n",
    "    rowsums = np.sum(gamma, axis = 1)\n",
    "    gamma = gamma/rowsums[:,None]\n",
    "\n",
    "    nck = np.zeros((4,W))\n",
    "    for i in range(len(nucleotides_dict.keys())):\n",
    "        for ind in range(len(read_list)):\n",
    "            indices = [m.start() for m in re.finditer(nucleotides_dict.keys()[i], read_list[ind][:read_length-W+1])]\n",
    "            for j in range(W):\n",
    "                nck[i][j] = nck[i][j] + sum([gamma[ind][index-j] for index in indices])\n",
    "    Pck = (nck + 1)/(np.sum(nck, axis = 0) + 4)\n",
    "\n",
    "    B = []\n",
    "    for ind in range(len(nucleotides_dict.keys())):\n",
    "        mc = 0\n",
    "        for read in read_list:\n",
    "            mc += read.count(nucleotides_dict.keys()[ind])\n",
    "        gc = mc - sum(nck[ind]) + 1\n",
    "        B.append(gc)\n",
    "    denom = sum(B)\n",
    "    B = B/denom\n",
    "    \n",
    "    return gamma, Pck, B"
   ]
  },
  {
   "cell_type": "markdown",
   "metadata": {},
   "source": [
    "### 3. Compute log likelihood of the data"
   ]
  },
  {
   "cell_type": "code",
   "execution_count": 43,
   "metadata": {
    "collapsed": true
   },
   "outputs": [],
   "source": [
    "def loglikelihood(gamma):\n",
    "    return sum([math.log10(p) for p in np.sum(gamma, axis = 1)])"
   ]
  },
  {
   "cell_type": "markdown",
   "metadata": {},
   "source": [
    "### 4a. Implement a function findmotif(file name, motif width, iterations) using the EM algo- rithm described above."
   ]
  },
  {
   "cell_type": "code",
   "execution_count": 44,
   "metadata": {
    "collapsed": true
   },
   "outputs": [],
   "source": [
    "def findmotif(file_name, motif_width, iterations):\n",
    "    read_list = [line.rstrip() for line in open(file_name).readlines()]\n",
    "    read_length = len(read_list[0]); W = motif_width; iterations = 100; loglik_prev = 0; itr = 1; conv = False\n",
    "    \n",
    "    PFM = np.zeros((4,read_length))\n",
    "    nucleotides_dict = {'A':0, 'C':1, 'T':2, 'G':3}\n",
    "    nucleotides_prob = {'A':0.25, 'C':0.25, 'T':0.25, 'G':0.25}\n",
    "    \n",
    "    Pck = E_Step(W, read_list, read_length, PFM, nucleotides_dict)\n",
    "\n",
    "    while (itr < 100 and conv == False):\n",
    "        gamma, Pck, B = M_Step(W, read_list, read_length, PFM, nucleotides_dict, nucleotides_prob, Pck)\n",
    "        \n",
    "        nucleotides_prob['A'] = B[0]\n",
    "        nucleotides_prob['C'] = B[1]\n",
    "        nucleotides_prob['T'] = B[2]\n",
    "        nucleotides_prob['G'] = B[3]\n",
    "\n",
    "        loglik_curr = loglikelihood(gamma)\n",
    "        if (abs(loglik_curr) - loglik_prev < 0.001):\n",
    "            conv = True\n",
    "        loglik_prev = loglik_curr\n",
    "        itr += 1\n",
    "    return Pck"
   ]
  },
  {
   "cell_type": "markdown",
   "metadata": {},
   "source": [
    "### 4b. Test your function using sequences in file shortmotif.txt."
   ]
  },
  {
   "cell_type": "code",
   "execution_count": 45,
   "metadata": {
    "collapsed": false
   },
   "outputs": [
    {
     "name": "stdout",
     "output_type": "stream",
     "text": [
      "[[ 0.33490318  0.25533093  0.20480038  0.16002505  0.24113299]\n",
      " [ 0.04166667  0.24724517  0.20941226  0.42815773  0.20676955]\n",
      " [ 0.20187415  0.41667375  0.24011027  0.28505357  0.21109404]\n",
      " [ 0.421556    0.08075015  0.34567709  0.12676365  0.34100342]]\n"
     ]
    }
   ],
   "source": [
    "Pck = findmotif('shortmotif.txt', 5, 100)\n",
    "np.savetxt(\"shortmotif_PWM.csv\", Pck, delimiter=\"\\t\")\n",
    "print(Pck)"
   ]
  },
  {
   "cell_type": "code",
   "execution_count": 46,
   "metadata": {
    "collapsed": false
   },
   "outputs": [
    {
     "name": "stdout",
     "output_type": "stream",
     "text": [
      "GTGCG\n"
     ]
    }
   ],
   "source": [
    "max_indices = [list(Pck[:,i]).index(max(Pck[:,i])) for i in range(5)]\n",
    "motif = \"\".join([['A', 'C', 'T', 'G'][i] for i in max_indices])\n",
    "print(motif)"
   ]
  },
  {
   "cell_type": "markdown",
   "metadata": {},
   "source": [
    "### 4c. Test your function using sequences in file longmotif.txt."
   ]
  },
  {
   "cell_type": "code",
   "execution_count": 47,
   "metadata": {
    "collapsed": false
   },
   "outputs": [
    {
     "name": "stdout",
     "output_type": "stream",
     "text": [
      "[[ 0.23960764  0.28939401  0.19443794  0.28393938  0.2819804   0.1625083\n",
      "   0.43414859  0.34312959]\n",
      " [ 0.34224468  0.20034018  0.33260079  0.27406113  0.22183682  0.11344038\n",
      "   0.14031175  0.24296603]\n",
      " [ 0.35932415  0.25926189  0.19296801  0.26577793  0.1288782   0.53703908\n",
      "   0.19124647  0.20724608]\n",
      " [ 0.05882353  0.25100392  0.27999326  0.17622156  0.36730457  0.18701225\n",
      "   0.23429319  0.20665829]]\n"
     ]
    }
   ],
   "source": [
    "Pck = findmotif('longmotif.txt', 8, 50)\n",
    "np.savetxt(\"longmotif_PWM.csv\", Pck, delimiter=\"\\t\")\n",
    "print(Pck)"
   ]
  },
  {
   "cell_type": "code",
   "execution_count": 48,
   "metadata": {
    "collapsed": false
   },
   "outputs": [
    {
     "name": "stdout",
     "output_type": "stream",
     "text": [
      "TACAGTAA\n"
     ]
    }
   ],
   "source": [
    "max_indices = [list(Pck[:,i]).index(max(Pck[:,i])) for i in range(8)]\n",
    "motif = \"\".join([['A', 'C', 'T', 'G'][i] for i in max_indices])\n",
    "print(motif)"
   ]
  }
 ],
 "metadata": {
  "kernelspec": {
   "display_name": "Python 2",
   "language": "python",
   "name": "python2"
  },
  "language_info": {
   "codemirror_mode": {
    "name": "ipython",
    "version": 2
   },
   "file_extension": ".py",
   "mimetype": "text/x-python",
   "name": "python",
   "nbconvert_exporter": "python",
   "pygments_lexer": "ipython2",
   "version": "2.7.11"
  }
 },
 "nbformat": 4,
 "nbformat_minor": 0
}
