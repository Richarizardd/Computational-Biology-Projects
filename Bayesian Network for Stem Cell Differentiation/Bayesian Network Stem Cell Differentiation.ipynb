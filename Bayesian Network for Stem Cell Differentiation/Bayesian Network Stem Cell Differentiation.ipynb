{
 "cells": [
  {
   "cell_type": "code",
   "execution_count": 43,
   "metadata": {
    "collapsed": false
   },
   "outputs": [],
   "source": [
    "import math\n",
    "from itertools import *\n",
    "from operator import itemgetter"
   ]
  },
  {
   "cell_type": "code",
   "execution_count": 2,
   "metadata": {
    "collapsed": false
   },
   "outputs": [],
   "source": [
    "def powerset(iterable):\n",
    "    s = list(iterable)\n",
    "    return chain.from_iterable(combinations(s, r) for r in range(len(s)+1))"
   ]
  },
  {
   "cell_type": "code",
   "execution_count": 3,
   "metadata": {
    "collapsed": true
   },
   "outputs": [],
   "source": [
    "def stirling_approx(n):\n",
    "    return (n+.5)*math.log(n,2)-n+.5*math.log(2*math.pi,2)"
   ]
  },
  {
   "cell_type": "code",
   "execution_count": 32,
   "metadata": {
    "collapsed": false
   },
   "outputs": [],
   "source": [
    "def getBinaryStateTable(size, alphabet = [0,1]):\n",
    "    if size == 1:\n",
    "        return [[character] for character in alphabet]\n",
    "        \n",
    "    statetable_prev = getBinaryStateTable(size - 1)\n",
    "    statetable_curr = [unfinished_state + [character] for character in alphabet for unfinished_state in statetable_prev]\n",
    "    return statetable_curr"
   ]
  },
  {
   "cell_type": "code",
   "execution_count": 33,
   "metadata": {
    "collapsed": false
   },
   "outputs": [],
   "source": [
    "def log2P(statetable_dict):\n",
    "    total = 0\n",
    "    \n",
    "    for key in statetable_dict.keys():\n",
    "        outcomes = statetable_dict[key][0]\n",
    "        num = 0; denom = 0; partial_sum = 0\n",
    "        \n",
    "        if (max(outcomes) > 50):\n",
    "            num = sum([stirling_approx(o) for o in outcomes])\n",
    "            denom = stirling_approx(sum(outcomes))\n",
    "            partial_sum = num - denom\n",
    "        else:\n",
    "            num = reduce(lambda x,y:x*y, [math.factorial(o) for o in outcomes])\n",
    "            denom = float(math.factorial(sum(outcomes)))\n",
    "            partial_sum = math.log(num/denom, 2)\n",
    "        total += partial_sum\n",
    "    \n",
    "    return total-math.log(len(statetable_dict.keys()), 2)*55"
   ]
  },
  {
   "cell_type": "code",
   "execution_count": 34,
   "metadata": {
    "collapsed": false
   },
   "outputs": [],
   "source": [
    "def bayesian_network(features_list, desired_features_index, sample_outcomes):    \n",
    "    statetable = [tuple(state) for state in getBinaryStateTable(len(desired_features_index))]\n",
    "    statetable_dict = {}\n",
    "    for state in statetable:\n",
    "        statetable_dict[state] = [[0]*len(sample_outcomes), [0]*len(sample_outcomes)]\n",
    "    \n",
    "    # Counts the total number of samples of being in a given cell state for each feature state\n",
    "    for sample in features_list:\n",
    "        state_sample = tuple([sample[i] for i in desired_features_index])\n",
    "        N = sample[6] # cell state\n",
    "        statetable_dict[state_sample][0][N] += 1;\n",
    "    \n",
    "    # Calculates the probabilities\n",
    "    for key in statetable_dict.keys():\n",
    "        tot = float(sum(statetable_dict[key][0]))\n",
    "        for i in range(len(sample_outcomes)):\n",
    "            statetable_dict[key][1][i] = statetable_dict[key][0][i]/tot\n",
    "    \n",
    "    loglikelihood = log2P(statetable_dict)\n",
    "    \n",
    "    return desired_features_index, loglikelihood"
   ]
  },
  {
   "cell_type": "code",
   "execution_count": 60,
   "metadata": {
    "collapsed": false
   },
   "outputs": [],
   "source": [
    "def exhaustive_model_search(features_list, parameters):\n",
    "    allmodels = list(powerset(parameters))\n",
    "    bayesian_models = []\n",
    "    for model in allmodels:\n",
    "        if list(model) != []:\n",
    "            bayesian_models.append(bayesian_network(features_list, list(model), [0,1]))\n",
    "    return sorted(bayesian_models, key=lambda x: x[1], reverse=True)"
   ]
  },
  {
   "cell_type": "code",
   "execution_count": 62,
   "metadata": {
    "collapsed": false
   },
   "outputs": [
    {
     "name": "stdout",
     "output_type": "stream",
     "text": [
      "([0, 1, 2], -1269.1600705391697)\n",
      "([0, 1, 2, 3, 4, 5], -1281.070973434198)\n",
      "([0, 1, 2, 3], -1292.3228055149268)\n",
      "([0, 1, 2, 4], -1295.133446589482)\n",
      "([0, 1, 2, 5], -1297.6042382748524)\n",
      "([0, 1, 2, 3, 4], -1299.0826667818048)\n",
      "([0, 1, 2, 3, 5], -1303.15706101261)\n",
      "([0, 1, 2, 4, 5], -1306.226910256871)\n",
      "([0, 1], -1317.7449421656356)\n",
      "([0, 2], -1332.1402494750942)\n",
      "([0, 1, 3], -1351.9188098167697)\n",
      "([0, 1, 4], -1354.5499262311757)\n",
      "([0, 1, 5], -1356.6243713414572)\n",
      "([0, 2, 3], -1368.4710933789202)\n",
      "([0, 2, 4], -1369.5804074137727)\n",
      "([0, 2, 5], -1370.7725007895954)\n",
      "([0], -1373.521677515958)\n",
      "([0, 1, 3, 4], -1375.5114267390486)\n",
      "([0, 1, 3, 5], -1379.2309319426922)\n",
      "([0, 1, 4, 5], -1381.6959451083478)\n",
      "([0, 1, 3, 4, 5], -1382.6049263940872)\n",
      "([0, 2, 3, 4], -1393.1164955909617)\n",
      "([0, 2, 3, 5], -1395.2031449601418)\n",
      "([0, 2, 4, 5], -1397.7759411660165)\n",
      "([0, 2, 3, 4, 5], -1399.8691124898792)\n",
      "([0, 4], -1417.1305888043403)\n",
      "([0, 3], -1417.5623075636486)\n",
      "([0, 5], -1418.7632011121445)\n",
      "([0, 3, 4], -1453.4549415390816)\n",
      "([0, 3, 5], -1454.4624133482175)\n",
      "([0, 4, 5], -1456.0209067611427)\n",
      "([0, 3, 4, 5], -1476.7880776371533)\n",
      "([1], -1531.099892099619)\n",
      "([1, 2], -1540.2730502731715)\n",
      "([2], -1543.9291565373978)\n",
      "([1, 3], -1574.2801957434403)\n",
      "([1, 2, 3], -1574.6428497591664)\n",
      "([1, 4], -1575.9279584841288)\n",
      "([1, 5], -1576.102845194991)\n",
      "([1, 2, 4], -1576.9585849807218)\n",
      "([3], -1578.2484445170658)\n",
      "([1, 2, 5], -1578.2533242350949)\n",
      "([5], -1578.3317632556546)\n",
      "([4], -1578.6424724350709)\n",
      "([2, 3], -1588.4087767642736)\n",
      "([2, 5], -1588.729882813965)\n",
      "([2, 4], -1589.7601789411515)\n",
      "([1, 2, 3, 4], -1596.4445480620363)\n",
      "([1, 2, 3, 5], -1601.0863046369896)\n",
      "([1, 2, 4, 5], -1604.0796964616195)\n",
      "([1, 2, 3, 4, 5], -1605.767006312263)\n",
      "([1, 3, 4], -1612.3745364771912)\n",
      "([1, 3, 5], -1612.3994610591196)\n",
      "([1, 4, 5], -1614.2410322881137)\n",
      "([3, 5], -1623.1475616953935)\n",
      "([4, 5], -1624.0676655497819)\n",
      "([3, 4], -1624.1699800114525)\n",
      "([2, 3, 4], -1625.7488454749946)\n",
      "([2, 3, 5], -1626.212897781013)\n",
      "([2, 4, 5], -1628.0530137243634)\n",
      "([1, 3, 4, 5], -1639.3324457241501)\n",
      "([2, 3, 4, 5], -1652.7818956249912)\n",
      "([3, 4, 5], -1662.6414244786497)\n"
     ]
    }
   ],
   "source": [
    "def main():\n",
    "    iPSC1 = open(\"ipsc1.dat\", \"r\")\n",
    "    iPSC1_list = iPSC1.readlines()\n",
    "    iPSC1_list = [map(int, line.rstrip().split(\" \")) for line in iPSC1_list]\n",
    "    bayesian_models = exhaustive_model_search(iPSC1_list, [0,1,2,3,4,5])\n",
    "    \n",
    "    for model in bayesian_models:\n",
    "        print(model)\n",
    "main()"
   ]
  }
 ],
 "metadata": {
  "kernelspec": {
   "display_name": "Python 2",
   "language": "python",
   "name": "python2"
  },
  "language_info": {
   "codemirror_mode": {
    "name": "ipython",
    "version": 2
   },
   "file_extension": ".py",
   "mimetype": "text/x-python",
   "name": "python",
   "nbconvert_exporter": "python",
   "pygments_lexer": "ipython2",
   "version": "2.7.11"
  }
 },
 "nbformat": 4,
 "nbformat_minor": 0
}
